{
 "cells": [
  {
   "cell_type": "code",
   "execution_count": 1,
   "metadata": {},
   "outputs": [],
   "source": [
    "import json\n",
    "\n",
    "def open_json(file_path):\n",
    "    file = open(file_path, 'r')\n",
    "    data = json.load(file)\n",
    "    train = [d[0] for d in data]\n",
    "    val = [d[1] for d in data]\n",
    "    file.close()\n",
    "    return train, val"
   ]
  },
  {
   "cell_type": "code",
   "execution_count": 2,
   "metadata": {},
   "outputs": [],
   "source": [
    "import matplotlib.pyplot as plt\n",
    "\n",
    "def lcurve_plot(train,val):\n",
    "    epochs = range(1, len(train) + 1)\n",
    "\n",
    "    plt.plot(epochs, train, 'bo-', label='Training loss')\n",
    "    plt.plot(epochs, val, 'r', label='Validation loss')\n",
    "    plt.title('Training and Validation Loss')\n",
    "    plt.xlabel('Epochs')\n",
    "    plt.ylabel('Loss')\n",
    "    plt.legend()\n",
    "    plt.show()\n",
    "\n",
    "def lcurve(path):\n",
    "    train, val = open_json(path)\n",
    "    lcurve_plot(train, val)"
   ]
  },
 "nbformat": 4,
 "nbformat_minor": 2
}
