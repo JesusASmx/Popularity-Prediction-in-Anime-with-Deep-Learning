{
 "cells": [
  {
   "cell_type": "code",
   "execution_count": 1,
   "metadata": {},
   "outputs": [],
   "source": [
    "import json\n",
    "\n",
    "def open_json(file_path):\n",
    "    file = open(file_path, 'r')\n",
    "    data = json.load(file)\n",
    "    train = [d[0] for d in data]\n",
    "    val = [d[1] for d in data]\n",
    "    file.close()\n",
    "    return train, val"
   ]
  },
  {
   "cell_type": "code",
   "execution_count": 2,
   "metadata": {},
   "outputs": [],
   "source": [
    "import matplotlib.pyplot as plt\n",
    "\n",
    "def lcurve_plot(train,val):\n",
    "    epochs = range(1, len(train) + 1)\n",
    "\n",
    "    plt.plot(epochs, train, 'bo-', label='Training loss')\n",
    "    plt.plot(epochs, val, 'r', label='Validation loss')\n",
    "    plt.title('Training and Validation Loss')\n",
    "    plt.xlabel('Epochs')\n",
    "    plt.ylabel('Loss')\n",
    "    plt.legend()\n",
    "    plt.show()\n",
    "\n",
    "def lcurve(path):\n",
    "    train, val = open_json(path)\n",
    "    lcurve_plot(train, val)"
   ]
  },
  {
   "cell_type": "code",
   "execution_count": null,
   "metadata": {},
   "outputs": [],
   "source": [
    "lcurve('.//final_reports//Char//train_val_loss.json')\n",
    "lcurve('.//final_reports//Full//train_val_loss.json')\n",
    "lcurve('.//final_reports//Img//train_val_loss.json')\n",
    "lcurve('.//final_reports//Syn//train_val_loss.json')\n",
    "lcurve('.//final_reports//trad//train_val_loss.json')"
   ]
  }
 ],
 "metadata": {
  "kernelspec": {
   "display_name": "Python 3",
   "language": "python",
   "name": "python3"
  },
  "language_info": {
   "codemirror_mode": {
    "name": "ipython",
    "version": 3
   },
   "file_extension": ".py",
   "mimetype": "text/x-python",
   "name": "python",
   "nbconvert_exporter": "python",
   "pygments_lexer": "ipython3",
   "version": "3.12.2"
  }
 },
 "nbformat": 4,
 "nbformat_minor": 2
}
